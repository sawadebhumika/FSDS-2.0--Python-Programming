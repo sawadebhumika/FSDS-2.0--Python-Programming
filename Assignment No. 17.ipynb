{
 "cells": [
  {
   "cell_type": "markdown",
   "id": "7c5c34c5",
   "metadata": {},
   "source": [
    "###### 1.Create a function that takes three arguments a, b, c and returns the sum of the numbers that are evenly divided by c from the range a, b inclusive ?"
   ]
  },
  {
   "cell_type": "markdown",
   "id": "a764835f",
   "metadata": {},
   "source": [
    "evenly_divisible(1, 10, 20) ➞ 0 # No number between 1 and 10 can be evenly divided by 20. evenly_divisible(1, 10, 2) ➞ 30 # 2 + 4 + 6 + 8 + 10 = 30 evenly_divisible(1, 10, 3) ➞ 18 # 3 + 6 + 9 = 18"
   ]
  },
  {
   "cell_type": "code",
   "execution_count": 1,
   "id": "98f081d4",
   "metadata": {},
   "outputs": [
    {
     "name": "stdout",
     "output_type": "stream",
     "text": [
      "(1, 10, 20) ➞ 0\n",
      "(1, 10, 2) ➞ 30\n",
      "(1, 10, 3) ➞ 18\n"
     ]
    }
   ],
   "source": [
    "def evenDivisible(a,b,c):\n",
    "    divList = []\n",
    "    for num in range(a,b+1):\n",
    "        if num%c == 0:\n",
    "            divList.append(num)\n",
    "    print(f'{a,b,c} ➞ {sum(divList)}')\n",
    "\n",
    "evenDivisible(1,10,20)\n",
    "evenDivisible(1,10,2)\n",
    "evenDivisible(1,10,3)"
   ]
  },
  {
   "cell_type": "markdown",
   "id": "010dd9ac",
   "metadata": {},
   "source": [
    "###### 2.Create a function that returns True if a given inequality expression is correct and False otherwise ?"
   ]
  },
  {
   "cell_type": "markdown",
   "id": "a101776b",
   "metadata": {},
   "source": [
    "    correct_signs(\"3 < 7 < 11\") ➞ True\n",
    "    correct_signs(\"13 > 44 > 33 > 1\") ➞ False\n",
    "    correct_signs(\"1 < 2 < 6 < 9 > 3\") ➞ True"
   ]
  },
  {
   "cell_type": "code",
   "execution_count": null,
   "id": "59e7eade",
   "metadata": {},
   "outputs": [],
   "source": [
    "def checkEquality():\n",
    "    in_string = input('Enter the inequality: ')\n",
    "    out_bool = eval(in_string)\n",
    "    print(f'{in_string} ➞ {out_bool}')\n",
    "\n",
    "for x in range(3):\n",
    "    checkEquality()"
   ]
  },
  {
   "cell_type": "markdown",
   "id": "4d36cb44",
   "metadata": {},
   "source": [
    "###### 3.Create a function that replaces all the vowels in a string with a specified character ?"
   ]
  },
  {
   "cell_type": "markdown",
   "id": "321deec4",
   "metadata": {},
   "source": [
    "    replace_vowels(\"the aardvark\", \"#\") ➞ \"th# ##rdv#rk\"\n",
    "    replace_vowels(\"minnie mouse\", \"?\") ➞ \"m?nn?? m??s?\"\n",
    "    replace_vowels(\"shakespeare\", \"*\") ➞ \"shksp**r\""
   ]
  },
  {
   "cell_type": "code",
   "execution_count": 5,
   "id": "8e69184d",
   "metadata": {},
   "outputs": [
    {
     "name": "stdout",
     "output_type": "stream",
     "text": [
      "String: @#\n",
      "Replacement character: e\n",
      "@# e ➞ @#\n",
      "String: minnie mouse\n",
      "Replacement character: *\n",
      "minnie mouse * ➞ m*nn** m**s*\n",
      "String: shakespeare\n",
      "Replacement character: *\n",
      "shakespeare * ➞ sh*k*sp**r*\n"
     ]
    }
   ],
   "source": [
    "def replaceVowels():\n",
    "    vowels = ['a','e','i','o','u','A','E','I','O','U']\n",
    "    in_string = input(\"String: \")\n",
    "    in_string_copy = in_string\n",
    "    in_char = input('Replacement character: ')\n",
    "    for ele in in_string:\n",
    "        if ele in vowels:\n",
    "            in_string = in_string.replace(ele,in_char)\n",
    "    print(f'{in_string_copy} {in_char} ➞ {in_string}')\n",
    "            \n",
    "for x in range(3):\n",
    "    replaceVowels()"
   ]
  },
  {
   "cell_type": "markdown",
   "id": "e89841c2",
   "metadata": {},
   "source": [
    "###### 4.Write a function that calculates the factorial of a number recursively ?"
   ]
  },
  {
   "cell_type": "markdown",
   "id": "15b75a0d",
   "metadata": {},
   "source": [
    "    factorial(5) ➞ 120\n",
    "    factorial(3) ➞ 6\n",
    "    factorial(1) ➞ 1\n",
    "    factorial(0) ➞ 1"
   ]
  },
  {
   "cell_type": "code",
   "execution_count": 6,
   "id": "07f9c879",
   "metadata": {},
   "outputs": [
    {
     "name": "stdout",
     "output_type": "stream",
     "text": [
      "factorial(5) ➞ 120\n",
      "factorial(3) ➞ 6\n",
      "factorial(1) ➞ 1\n",
      "factorial(0) ➞ 1\n"
     ]
    }
   ],
   "source": [
    "def factorial(n):\n",
    "    if n==0:\n",
    "        return 1\n",
    "    return n * factorial(n-1)\n",
    "\n",
    "print(f'factorial(5) ➞ {factorial(5)}')\n",
    "print(f'factorial(3) ➞ {factorial(3)}')\n",
    "print(f'factorial(1) ➞ {factorial(1)}')\n",
    "print(f'factorial(0) ➞ {factorial(0)}')"
   ]
  },
  {
   "cell_type": "markdown",
   "id": "84c3404d",
   "metadata": {},
   "source": [
    "###### 5.Hamming distance is the number of characters that differ between two strings ?"
   ]
  },
  {
   "cell_type": "markdown",
   "id": "3c899c1d",
   "metadata": {},
   "source": [
    "    To illustrate:\n",
    "    String1: \"abcbba\"\n",
    "    String2: \"abcbda\"\n",
    "    Hamming Distance: 1 - \"b\" vs. \"d\" is the only difference.\n",
    "    Create a function that computes the hamming distance between two strings.\n",
    "    Examples:\n",
    "    hamming_distance(\"abcde\", \"bcdef\") ➞ 5\n",
    "    hamming_distance(\"abcde\", \"abcde\") ➞ 0\n",
    "    hamming_distance(\"strong\", \"strung\") ➞ 1"
   ]
  },
  {
   "cell_type": "code",
   "execution_count": 8,
   "id": "398b67ff",
   "metadata": {},
   "outputs": [
    {
     "name": "stdout",
     "output_type": "stream",
     "text": [
      "Enter the String_1: abcd\n",
      "Enter the String_2: bcdef\n",
      "Both Strings Must be of Same Length\n",
      "Enter the String_1: abcde\n",
      "Enter the String_2: abcdegh\n",
      "Both Strings Must be of Same Length\n",
      "Enter the String_1: abcd\n",
      "Enter the String_2: bcdef\n",
      "Both Strings Must be of Same Length\n"
     ]
    }
   ],
   "source": [
    "def genHamDistance():\n",
    "    in_string_1 = input('Enter the String_1: ')\n",
    "    in_string_2 = input('Enter the String_2: ')\n",
    "    if len(in_string_1) == len(in_string_2):\n",
    "        count = 0\n",
    "        for i in range(len(in_string_1)):\n",
    "            if in_string_1[i] != in_string_2[i]:\n",
    "                count = count+1\n",
    "        print(f'Hamning Distance b/w {in_string_1} and {in_string_2} ➞ {count}')\n",
    "    else:\n",
    "        print('Both Strings Must be of Same Length')\n",
    "\n",
    "for x in range(3):\n",
    "    genHamDistance()"
   ]
  },
  {
   "cell_type": "code",
   "execution_count": null,
   "id": "ba416b10",
   "metadata": {},
   "outputs": [],
   "source": []
  }
 ],
 "metadata": {
  "kernelspec": {
   "display_name": "Python 3 (ipykernel)",
   "language": "python",
   "name": "python3"
  },
  "language_info": {
   "codemirror_mode": {
    "name": "ipython",
    "version": 3
   },
   "file_extension": ".py",
   "mimetype": "text/x-python",
   "name": "python",
   "nbconvert_exporter": "python",
   "pygments_lexer": "ipython3",
   "version": "3.10.9"
  }
 },
 "nbformat": 4,
 "nbformat_minor": 5
}
